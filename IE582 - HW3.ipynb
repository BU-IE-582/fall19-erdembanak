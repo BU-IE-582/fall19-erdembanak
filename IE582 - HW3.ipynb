{
 "cells": [
  {
   "cell_type": "markdown",
   "metadata": {},
   "source": [
    "Path to github:\n",
    "https://github.com/BU-IE-582/fall19-erdembanak"
   ]
  },
  {
   "cell_type": "code",
   "execution_count": null,
   "metadata": {},
   "outputs": [],
   "source": [
    "library(data.table)\n",
    "library(stringr)\n",
    "library(glmnet)\n",
    "\n",
    "consumption <- fread(\"C:/Users/erdem.banak/Documents/IE582/IE582Fall2019_data_files/HW3/Consumption.csv\")\n"
   ]
  },
  {
   "cell_type": "code",
   "execution_count": 18,
   "metadata": {},
   "outputs": [],
   "source": [
    "colnames(consumption) <- c(\"Date\", \"Hour\", \"Consumption\")\n",
    "\n",
    "consumption[, Date := as.Date(Date, format = \"%d.%m.%Y\")]\n",
    "consumption[, Hour := as.integer(substr(Hour, 1, 2))]\n",
    "consumption[, `:=`(Consumption1 = str_split_fixed(Consumption, \",\", 2)[1],\n",
    "                   Consumption2 = str_split_fixed(Consumption, \",\", 2)[2]), .(Date, Hour)]\n",
    "\n",
    "consumption[, Consumption3 := gsub('\\\\.', '', Consumption1)]\n",
    "consumption[, Consumption := as.integer(Consumption3) + as.integer(Consumption2)*(1/10^nchar(Consumption2))]\n",
    "consumption[, `:=`(Consumption1 = NULL, Consumption2 = NULL, Consumption3 = NULL)]\n",
    "\n",
    "consumption <- consumption[order(Date, Hour)]\n",
    "\n",
    "consumption[, Type := ifelse(Date < '2019-11-01', \"Train\", \"Test\")]\n",
    "consumption <- consumption[Date < '2019-11-11',]\n"
   ]
  },
  {
   "cell_type": "code",
   "execution_count": 19,
   "metadata": {},
   "outputs": [
    {
     "name": "stdout",
     "output_type": "stream",
     "text": [
      "[1] \"Using 2 days before gives the MAPE error of 7.82%\"\n",
      "[1] \"Using 7 days before gives the MAPE error of 4.04%\"\n"
     ]
    },
    {
     "data": {
      "text/plain": [
       "     Min.   1st Qu.    Median      Mean   3rd Qu.      Max. \n",
       "0.0000164 0.0132637 0.0541159 0.0781869 0.0908838 0.4182994 "
      ]
     },
     "metadata": {},
     "output_type": "display_data"
    },
    {
     "data": {
      "text/plain": [
       "     Min.   1st Qu.    Median      Mean   3rd Qu.      Max. \n",
       "6.424e-05 9.263e-03 1.750e-02 4.040e-02 6.313e-02 2.120e-01 "
      ]
     },
     "metadata": {},
     "output_type": "display_data"
    }
   ],
   "source": [
    "# Part A\n",
    "\n",
    "consumption[, Lag48 := shift(Consumption, type = 'lag', 48)]\n",
    "consumption[, Lag168 := shift(Consumption, type = 'lag', 168)]\n",
    "\n",
    "MAPE_48 <- consumption[Type == 'Test', mean(abs(Lag48 - Consumption)/Consumption)]\n",
    "MAPE_168 <- consumption[Type == 'Test', mean(abs(Lag168 - Consumption)/Consumption)]\n",
    "\n",
    "print(paste0(\"Using 2 days before gives the MAPE error of \", round(MAPE_48*100,2), \"%\"))\n",
    "print(paste0(\"Using 7 days before gives the MAPE error of \", round(MAPE_168*100,2), \"%\"))\n",
    "\n",
    "MAPE_48_list <- consumption[Type == 'Test', abs(Lag48 - Consumption)/Consumption]\n",
    "MAPE_168_list <- consumption[Type == 'Test', abs(Lag168 - Consumption)/Consumption]\n",
    "\n",
    "summary(MAPE_48_list)\n",
    "summary(MAPE_168_list)"
   ]
  },
  {
   "cell_type": "code",
   "execution_count": 20,
   "metadata": {},
   "outputs": [
    {
     "name": "stdout",
     "output_type": "stream",
     "text": [
      "[1] \"Using linear regression of two variables give us MAPE error of 4.53%\"\n"
     ]
    },
    {
     "data": {
      "text/plain": [
       "     Min.   1st Qu.    Median      Mean   3rd Qu.      Max. \n",
       "0.0001094 0.0087319 0.0208819 0.0453490 0.0721326 0.2259201 "
      ]
     },
     "metadata": {},
     "output_type": "display_data"
    }
   ],
   "source": [
    "# Part B\n",
    "\n",
    "train_data <- consumption[Type == \"Train\",]\n",
    "\n",
    "lin_mod <- lm(Consumption ~ Lag48 + Lag168, train_data)\n",
    "\n",
    "intercept <- lin_mod$coefficients[1]\n",
    "lag48 <- lin_mod$coefficients[2]\n",
    "lag168 <- lin_mod$coefficients[3]\n",
    "\n",
    "part_b <- copy(consumption)\n",
    "\n",
    "part_b[, Prediction := intercept + lag48*Lag48 + lag168*Lag168]\n",
    "\n",
    "MAPE_b <- part_b[Type == 'Test', mean(abs(Prediction - Consumption)/Consumption)]\n",
    "\n",
    "print(paste0(\"Using linear regression of two variables give us MAPE error of \", \n",
    "      round(MAPE_b*100,2), \"%\"))\n",
    "\n",
    "MAPE_b_list <- part_b[Type == 'Test', (abs(Prediction - Consumption)/Consumption)]\n",
    "\n",
    "summary(MAPE_b_list)"
   ]
  },
  {
   "cell_type": "code",
   "execution_count": 21,
   "metadata": {},
   "outputs": [
    {
     "name": "stdout",
     "output_type": "stream",
     "text": [
      "[1] \"Using seperate linear regressions of two variables give us MAPE error of 4.69%\"\n"
     ]
    },
    {
     "data": {
      "text/plain": [
       "     Min.   1st Qu.    Median      Mean   3rd Qu.      Max. \n",
       "0.0001608 0.0121292 0.0289932 0.0468520 0.0753633 0.2023043 "
      ]
     },
     "metadata": {},
     "output_type": "display_data"
    }
   ],
   "source": [
    "models <- data.table()\n",
    "\n",
    "test_data <- consumption[Type == \"Test\",]\n",
    "\n",
    "for (hour in c(0:23)){\n",
    "  lin_mod <- lm(Consumption ~ Lag48 + Lag168, train_data[Hour == hour,])\n",
    "  \n",
    "  intercept <- lin_mod$coefficients[1]\n",
    "  lag48 <- lin_mod$coefficients[2]\n",
    "  lag168 <- lin_mod$coefficients[3]\n",
    "\n",
    "  model <- data.table(Hour = hour, \n",
    "                      Intercept = intercept, \n",
    "                      Lag48Coef = lag48, \n",
    "                      Lag168Coef = lag168)\n",
    "  \n",
    "  models <- rbind(model, models)\n",
    "}\n",
    "\n",
    "setkey(test_data, Hour)\n",
    "setkey(models, Hour)\n",
    "\n",
    "test_data <- models[test_data]\n",
    "\n",
    "test_data[, Prediction := Intercept + Lag48*Lag48Coef + Lag168*Lag168Coef]\n",
    "\n",
    "MAPE_c <- test_data[Type == 'Test', mean(abs(Prediction - Consumption)/Consumption)]\n",
    "\n",
    "print(paste0(\"Using seperate linear regressions of two variables give us MAPE error of \", \n",
    "      round(MAPE_c*100,2), \"%\"))\n",
    "\n",
    "MAPE_c_list <- test_data[Type == 'Test', abs(Prediction - Consumption)/Consumption]\n",
    "\n",
    "summary(MAPE_c_list)"
   ]
  },
  {
   "cell_type": "code",
   "execution_count": 22,
   "metadata": {},
   "outputs": [
    {
     "name": "stdout",
     "output_type": "stream",
     "text": [
      "[1] \"Using Lasso with the more predictors gives us MAPE error of 2.74%\"\n"
     ]
    },
    {
     "data": {
      "text/plain": [
       "     Min.   1st Qu.    Median      Mean   3rd Qu.      Max. \n",
       "9.997e-05 1.058e-02 1.805e-02 2.744e-02 3.420e-02 1.156e-01 "
      ]
     },
     "metadata": {},
     "output_type": "display_data"
    }
   ],
   "source": [
    "### d\n",
    "\n",
    "part_d <- copy(consumption)\n",
    "part_d[, `:=`(Lag48 = NULL, Lag168 = NULL)]\n",
    "\n",
    "lag7_hourly <- dcast(part_d, Date ~ Hour, value.var = \"Consumption\")\n",
    "\n",
    "colnames(lag7_hourly)[2:25] <- paste(\"Lag_day7_\", colnames(lag7_hourly)[2:25], sep=\"\") \n",
    "lag7_hourly[, Date := Date + 7]\n",
    "\n",
    "lag2_hourly <- dcast(part_d, Date ~ Hour, value.var = \"Consumption\")\n",
    "\n",
    "colnames(lag2_hourly)[2:25] <- paste(\"Lag_day2_\", colnames(lag2_hourly)[2:25], sep=\"\") \n",
    "lag2_hourly[, Date := Date + 2]\n",
    "\n",
    "setkey(part_d, Date)\n",
    "setkey(lag7_hourly, Date)\n",
    "setkey(lag2_hourly, Date)\n",
    "\n",
    "part_d <- lag2_hourly[lag7_hourly][part_d]\n",
    "\n",
    "part_d <- part_d[!is.na(Lag_day7_0)]\n",
    "part_d <- na.omit(part_d)\n",
    "\n",
    "coeffs <- data.table()\n",
    "predictions <- data.table()\n",
    "non_zero_counts <- data.table()\n",
    "\n",
    "for (hour in 0:23){\n",
    "  x_train <- as.matrix(part_d[Type == \"Train\" \n",
    "                              & Hour == hour, -c(\"Consumption\", \"Type\", \"Hour\", \"Date\")])\n",
    "  x_test <- as.matrix(part_d[Type == \"Test\" \n",
    "                             & Hour == hour, -c(\"Consumption\", \"Type\", \"Hour\", \"Date\")])\n",
    "  y_train <- part_d[Type == \"Train\" \n",
    "                    & Hour == hour, Consumption]\n",
    "  \n",
    "  lasso_cv <- cv.glmnet(x_train, \n",
    "                        y_train, \n",
    "                        type.measure=\"mse\", \n",
    "                        family=\"gaussian\", \n",
    "                        alpha = 1, \n",
    "                        nfolds = 10)\n",
    "  \n",
    "  lasso_cv$glmnet.fit$b\n",
    "  fit <- glmnet(x_train, \n",
    "                y_train, \n",
    "                type.measure=\"mse\", \n",
    "                family=\"gaussian\", \n",
    "                alpha = 1, \n",
    "                nfolds = 10,\n",
    "                lambda = lasso_cv$lambda.min)\n",
    "  \n",
    "  non_zero_count <- fit$df\n",
    "  non_zero_count <- cbind(data.table(Hour = hour), non_zero_count)\n",
    "  non_zero_counts <- rbind(non_zero_counts, non_zero_count)\n",
    "  \n",
    "  coef <- as.data.table(as.matrix(fit$beta), keep.rownames = T)\n",
    "  coef <- dcast(coef, 1 ~ rn, value.var = \"s0\")\n",
    "  coef <- cbind(data.table(Hour = hour), coef)\n",
    "  \n",
    "  coeffs <- rbind(coeffs, coef)\n",
    "  \n",
    "  test <- predict(fit, x_test)\n",
    "  prediction <- data.table(Prediction = as.vector(test))\n",
    "  \n",
    "  basis <- part_d[Type == 'Test' & Hour == hour, .(Date, Hour, Consumption)]\n",
    "  prediction <- cbind(basis, prediction)\n",
    "  predictions <- rbind(predictions, prediction)\n",
    "}\n",
    "\n",
    "MAPE_d <- predictions[, mean(abs(Prediction - Consumption)/Consumption)]\n",
    "\n",
    "print(paste0(\"Using Lasso with the more predictors gives us MAPE error of \", \n",
    "      round(MAPE_d*100,2), \"%\"))\n",
    "\n",
    "MAPE_d_list <- predictions[, abs(Prediction - Consumption)/Consumption]\n",
    "\n",
    "summary(MAPE_d_list)"
   ]
  },
  {
   "cell_type": "markdown",
   "metadata": {},
   "source": [
    "Coefficients change drastically between consecutive hours. For example check the model for hour 0. You can see that it goes above zero and goes back to negative. Note that total distance between max and min coefficient is around 1.8 for hour 0, while the difference between two consecutive hours is nearly 1."
   ]
  },
  {
   "cell_type": "code",
   "execution_count": 23,
   "metadata": {},
   "outputs": [
    {
     "data": {
      "text/html": [
       "<table>\n",
       "<thead><tr><th scope=col>Lag_day2_11</th><th scope=col>Lag_day2_12</th><th scope=col>Lag_day2_13</th><th scope=col>Lag_day2_14</th><th scope=col>MinValue</th><th scope=col>MaxValue</th></tr></thead>\n",
       "<tbody>\n",
       "\t<tr><td>-0.1751454</td><td>0.1217214 </td><td>0.539342  </td><td>-0.3985304</td><td>-0.6254147</td><td>1.150962  </td></tr>\n",
       "</tbody>\n",
       "</table>\n"
      ],
      "text/latex": [
       "\\begin{tabular}{r|llllll}\n",
       " Lag\\_day2\\_11 & Lag\\_day2\\_12 & Lag\\_day2\\_13 & Lag\\_day2\\_14 & MinValue & MaxValue\\\\\n",
       "\\hline\n",
       "\t -0.1751454 & 0.1217214  & 0.539342   & -0.3985304 & -0.6254147 & 1.150962  \\\\\n",
       "\\end{tabular}\n"
      ],
      "text/markdown": [
       "\n",
       "| Lag_day2_11 | Lag_day2_12 | Lag_day2_13 | Lag_day2_14 | MinValue | MaxValue |\n",
       "|---|---|---|---|---|---|\n",
       "| -0.1751454 | 0.1217214  | 0.539342   | -0.3985304 | -0.6254147 | 1.150962   |\n",
       "\n"
      ],
      "text/plain": [
       "  Lag_day2_11 Lag_day2_12 Lag_day2_13 Lag_day2_14 MinValue   MaxValue\n",
       "1 -0.1751454  0.1217214   0.539342    -0.3985304  -0.6254147 1.150962"
      ]
     },
     "metadata": {},
     "output_type": "display_data"
    }
   ],
   "source": [
    "SDcols <- c(colnames(lag2_hourly)[2:25], colnames(lag7_hourly)[2:25])\n",
    "\n",
    "coeffs[, MaxValue := max(.SD), by=Hour, .SD = SDcols]\n",
    "coeffs[, MinValue := min(.SD), by=Hour, .SD = SDcols]\n",
    "\n",
    "coeffs[Hour == 0, .(Lag_day2_11, Lag_day2_12, Lag_day2_13, Lag_day2_14, MinValue, MaxValue)]"
   ]
  },
  {
   "cell_type": "markdown",
   "metadata": {},
   "source": [
    "There are 48 regressors; models didn't zero out most of the coefficients"
   ]
  },
  {
   "cell_type": "code",
   "execution_count": 24,
   "metadata": {},
   "outputs": [
    {
     "data": {
      "text/html": [
       "<table>\n",
       "<thead><tr><th scope=col>Hour</th><th scope=col>non_zero_count</th></tr></thead>\n",
       "<tbody>\n",
       "\t<tr><td> 0</td><td>40</td></tr>\n",
       "\t<tr><td> 1</td><td>39</td></tr>\n",
       "\t<tr><td> 2</td><td>38</td></tr>\n",
       "\t<tr><td> 3</td><td>32</td></tr>\n",
       "\t<tr><td> 4</td><td>42</td></tr>\n",
       "\t<tr><td> 5</td><td>42</td></tr>\n",
       "\t<tr><td> 6</td><td>43</td></tr>\n",
       "\t<tr><td> 7</td><td>38</td></tr>\n",
       "\t<tr><td> 8</td><td>40</td></tr>\n",
       "\t<tr><td> 9</td><td>41</td></tr>\n",
       "\t<tr><td>10</td><td>39</td></tr>\n",
       "\t<tr><td>11</td><td>39</td></tr>\n",
       "\t<tr><td>12</td><td>43</td></tr>\n",
       "\t<tr><td>13</td><td>44</td></tr>\n",
       "\t<tr><td>14</td><td>41</td></tr>\n",
       "\t<tr><td>15</td><td>40</td></tr>\n",
       "\t<tr><td>16</td><td>43</td></tr>\n",
       "\t<tr><td>17</td><td>42</td></tr>\n",
       "\t<tr><td>18</td><td>41</td></tr>\n",
       "\t<tr><td>19</td><td>45</td></tr>\n",
       "\t<tr><td>20</td><td>41</td></tr>\n",
       "\t<tr><td>21</td><td>45</td></tr>\n",
       "\t<tr><td>22</td><td>37</td></tr>\n",
       "\t<tr><td>23</td><td>43</td></tr>\n",
       "</tbody>\n",
       "</table>\n"
      ],
      "text/latex": [
       "\\begin{tabular}{r|ll}\n",
       " Hour & non\\_zero\\_count\\\\\n",
       "\\hline\n",
       "\t  0 & 40\\\\\n",
       "\t  1 & 39\\\\\n",
       "\t  2 & 38\\\\\n",
       "\t  3 & 32\\\\\n",
       "\t  4 & 42\\\\\n",
       "\t  5 & 42\\\\\n",
       "\t  6 & 43\\\\\n",
       "\t  7 & 38\\\\\n",
       "\t  8 & 40\\\\\n",
       "\t  9 & 41\\\\\n",
       "\t 10 & 39\\\\\n",
       "\t 11 & 39\\\\\n",
       "\t 12 & 43\\\\\n",
       "\t 13 & 44\\\\\n",
       "\t 14 & 41\\\\\n",
       "\t 15 & 40\\\\\n",
       "\t 16 & 43\\\\\n",
       "\t 17 & 42\\\\\n",
       "\t 18 & 41\\\\\n",
       "\t 19 & 45\\\\\n",
       "\t 20 & 41\\\\\n",
       "\t 21 & 45\\\\\n",
       "\t 22 & 37\\\\\n",
       "\t 23 & 43\\\\\n",
       "\\end{tabular}\n"
      ],
      "text/markdown": [
       "\n",
       "| Hour | non_zero_count |\n",
       "|---|---|\n",
       "|  0 | 40 |\n",
       "|  1 | 39 |\n",
       "|  2 | 38 |\n",
       "|  3 | 32 |\n",
       "|  4 | 42 |\n",
       "|  5 | 42 |\n",
       "|  6 | 43 |\n",
       "|  7 | 38 |\n",
       "|  8 | 40 |\n",
       "|  9 | 41 |\n",
       "| 10 | 39 |\n",
       "| 11 | 39 |\n",
       "| 12 | 43 |\n",
       "| 13 | 44 |\n",
       "| 14 | 41 |\n",
       "| 15 | 40 |\n",
       "| 16 | 43 |\n",
       "| 17 | 42 |\n",
       "| 18 | 41 |\n",
       "| 19 | 45 |\n",
       "| 20 | 41 |\n",
       "| 21 | 45 |\n",
       "| 22 | 37 |\n",
       "| 23 | 43 |\n",
       "\n"
      ],
      "text/plain": [
       "   Hour non_zero_count\n",
       "1   0   40            \n",
       "2   1   39            \n",
       "3   2   38            \n",
       "4   3   32            \n",
       "5   4   42            \n",
       "6   5   42            \n",
       "7   6   43            \n",
       "8   7   38            \n",
       "9   8   40            \n",
       "10  9   41            \n",
       "11 10   39            \n",
       "12 11   39            \n",
       "13 12   43            \n",
       "14 13   44            \n",
       "15 14   41            \n",
       "16 15   40            \n",
       "17 16   43            \n",
       "18 17   42            \n",
       "19 18   41            \n",
       "20 19   45            \n",
       "21 20   41            \n",
       "22 21   45            \n",
       "23 22   37            \n",
       "24 23   43            "
      ]
     },
     "metadata": {},
     "output_type": "display_data"
    }
   ],
   "source": [
    "non_zero_counts"
   ]
  },
  {
   "cell_type": "code",
   "execution_count": 25,
   "metadata": {},
   "outputs": [],
   "source": [
    "overall <- cbind(MAPE_48 = MAPE_48_list,\n",
    "                MAPE_168 = MAPE_168_list,\n",
    "                MAPE_b = MAPE_b_list,\n",
    "                MAPE_c = MAPE_c_list,\n",
    "                MAPE_d = MAPE_d_list)"
   ]
  },
  {
   "cell_type": "markdown",
   "metadata": {},
   "source": [
    "# Part f\n",
    "\n",
    "Boxplots are shown below.\n",
    "\n",
    "It can be seen that regularized method gives the best predictor. But note that using 1 week before works better than the other methods. Linear regression etc. are probably overfitting to the data."
   ]
  },
  {
   "cell_type": "code",
   "execution_count": 16,
   "metadata": {},
   "outputs": [
    {
     "data": {
      "text/plain": [
       "    MAPE_48             MAPE_168             MAPE_b         \n",
       " Min.   :0.0000164   Min.   :6.424e-05   Min.   :0.0001094  \n",
       " 1st Qu.:0.0132637   1st Qu.:9.263e-03   1st Qu.:0.0087319  \n",
       " Median :0.0541159   Median :1.750e-02   Median :0.0208819  \n",
       " Mean   :0.0781869   Mean   :4.040e-02   Mean   :0.0453490  \n",
       " 3rd Qu.:0.0908838   3rd Qu.:6.313e-02   3rd Qu.:0.0721326  \n",
       " Max.   :0.4182994   Max.   :2.120e-01   Max.   :0.2259201  \n",
       "     MAPE_c              MAPE_d         \n",
       " Min.   :0.0001608   Min.   :0.0002762  \n",
       " 1st Qu.:0.0121292   1st Qu.:0.0102039  \n",
       " Median :0.0289932   Median :0.0177586  \n",
       " Mean   :0.0468520   Mean   :0.0274512  \n",
       " 3rd Qu.:0.0753633   3rd Qu.:0.0336216  \n",
       " Max.   :0.2023043   Max.   :0.1156815  "
      ]
     },
     "metadata": {},
     "output_type": "display_data"
    },
    {
     "data": {
      "image/png": "[encoded data removed]",
      "text/plain": [
       "plot without title"
      ]
     },
     "metadata": {},
     "output_type": "display_data"
    }
   ],
   "source": [
    "summary(overall)\n",
    "boxplot(overall)"
   ]
  }
 ],
 "metadata": {
  "kernelspec": {
   "display_name": "R",
   "language": "R",
   "name": "ir"
  },
  "language_info": {
   "codemirror_mode": "r",
   "file_extension": ".r",
   "mimetype": "text/x-r-source",
   "name": "R",
   "pygments_lexer": "r",
   "version": "3.6.1"
  }
 },
 "nbformat": 4,
 "nbformat_minor": 2
}
